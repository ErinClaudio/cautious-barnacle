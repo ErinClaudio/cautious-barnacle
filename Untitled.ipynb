{
 "cells": [
  {
   "cell_type": "code",
   "execution_count": 2,
   "metadata": {},
   "outputs": [
    {
     "name": "stdout",
     "output_type": "stream",
     "text": [
      "Requirement already satisfied: pandas_datareader in /Users/erinclaudio/anaconda3/lib/python3.7/site-packages (0.8.1)\n",
      "Requirement already satisfied: requests>=2.3.0 in /Users/erinclaudio/anaconda3/lib/python3.7/site-packages (from pandas_datareader) (2.22.0)\n",
      "Requirement already satisfied: lxml in /Users/erinclaudio/anaconda3/lib/python3.7/site-packages (from pandas_datareader) (4.3.4)\n",
      "Requirement already satisfied: pandas>=0.21 in /Users/erinclaudio/anaconda3/lib/python3.7/site-packages (from pandas_datareader) (0.24.2)\n",
      "Requirement already satisfied: certifi>=2017.4.17 in /Users/erinclaudio/anaconda3/lib/python3.7/site-packages (from requests>=2.3.0->pandas_datareader) (2019.11.28)\n",
      "Requirement already satisfied: idna<2.9,>=2.5 in /Users/erinclaudio/anaconda3/lib/python3.7/site-packages (from requests>=2.3.0->pandas_datareader) (2.8)\n",
      "Requirement already satisfied: urllib3!=1.25.0,!=1.25.1,<1.26,>=1.21.1 in /Users/erinclaudio/anaconda3/lib/python3.7/site-packages (from requests>=2.3.0->pandas_datareader) (1.24.2)\n",
      "Requirement already satisfied: chardet<3.1.0,>=3.0.2 in /Users/erinclaudio/anaconda3/lib/python3.7/site-packages (from requests>=2.3.0->pandas_datareader) (3.0.4)\n",
      "Requirement already satisfied: numpy>=1.12.0 in /Users/erinclaudio/anaconda3/lib/python3.7/site-packages (from pandas>=0.21->pandas_datareader) (1.16.4)\n",
      "Requirement already satisfied: pytz>=2011k in /Users/erinclaudio/anaconda3/lib/python3.7/site-packages (from pandas>=0.21->pandas_datareader) (2019.1)\n",
      "Requirement already satisfied: python-dateutil>=2.5.0 in /Users/erinclaudio/anaconda3/lib/python3.7/site-packages (from pandas>=0.21->pandas_datareader) (2.8.0)\n",
      "Requirement already satisfied: six>=1.5 in /Users/erinclaudio/anaconda3/lib/python3.7/site-packages (from python-dateutil>=2.5.0->pandas>=0.21->pandas_datareader) (1.12.0)\n",
      "Note: you may need to restart the kernel to use updated packages.\n"
     ]
    }
   ],
   "source": [
    "pip install pandas_datareader"
   ]
  },
  {
   "cell_type": "code",
   "execution_count": null,
   "metadata": {},
   "outputs": [],
   "source": []
  },
  {
   "cell_type": "code",
   "execution_count": 26,
   "metadata": {},
   "outputs": [],
   "source": [
    "from pandas_datareader import data\n",
    "import datetime\n",
    "from bokeh.plotting import figure, show, output_file\n",
    "from bokeh.embed import components\n",
    "from bokeh.resources import CDN"
   ]
  },
  {
   "cell_type": "code",
   "execution_count": 27,
   "metadata": {},
   "outputs": [],
   "source": [
    "start1= datetime.datetime(2018,10,30)\n",
    "end1=datetime.datetime(2019,5,30)\n",
    "df = data.DataReader(\"TSLA\", \"yahoo\",start=start1,end=end1)\n"
   ]
  },
  {
   "cell_type": "code",
   "execution_count": 28,
   "metadata": {},
   "outputs": [],
   "source": [
    "def value(c,o):\n",
    "    if c > o:\n",
    "        value=\"Increase\"\n",
    "    elif c<o:\n",
    "        value= \"Decrease\"\n",
    "    else:\n",
    "        value=\"equal\"\n",
    "    return value\n",
    "\n",
    "df[\"Status\"]=[value(c,o) for c,o in zip(df.Close,df.Open)]"
   ]
  },
  {
   "cell_type": "code",
   "execution_count": 29,
   "metadata": {},
   "outputs": [],
   "source": [
    "df[\"Middle\"]= (df.Open+df.Close)/2\n",
    "df[\"Height\"]=abs(df.Close-df.Open)"
   ]
  },
  {
   "cell_type": "code",
   "execution_count": 30,
   "metadata": {},
   "outputs": [
    {
     "name": "stderr",
     "output_type": "stream",
     "text": [
      "BokehUserWarning: ColumnDataSource's columns must be of the same length. Current lengths: ('height', 146), ('x', 79), ('y', 79)\n",
      "BokehUserWarning: ColumnDataSource's columns must be of the same length. Current lengths: ('height', 146), ('x', 67), ('y', 67)\n"
     ]
    }
   ],
   "source": [
    "p = figure(x_axis_type=\"datetime\",width=1000,height=300,sizing_mode=\"scale_width\")\n",
    "p.title.text=\"Candlestick Chart\"\n",
    "p.grid.grid_line_alpha=0.2\n",
    "\n",
    "hours_12=12*60*60*1000\n",
    "\n",
    "p.segment(df.index,df.High,df.index,df.Low,color=\"Black\")\n",
    "\n",
    "p.rect(df.index[df.Status==\"Increase\"],df.Middle[df.Status ==\"Increase\"],\n",
    "       hours_12,abs(df.Open-df.Close),fill_color=\"blue\", line_color=\"black\")\n",
    "\n",
    "p.rect(df.index[df.Status==\"Decrease\"],df.Middle[df.Status ==\"Decrease\"],\n",
    "       hours_12,abs(df.Open-df.Close), fill_color=\"red\", line_color=\"black\")\n",
    "\n",
    "script1,div1 = components(p)\n",
    "cdn_js=CDN.js_files\n",
    "cdn_css=CDN.css_files\n",
    "\n",
    "#output_file(\"CS.html\")\n",
    "#show(p)\n"
   ]
  },
  {
   "cell_type": "code",
   "execution_count": 31,
   "metadata": {},
   "outputs": [
    {
     "name": "stdout",
     "output_type": "stream",
     "text": [
      "\n",
      "<div class=\"bk-root\" id=\"024e703f-1bfe-483d-ab3a-21cda9b81eac\" data-root-id=\"2407\"></div>\n"
     ]
    }
   ],
   "source": [
    "print(div1)"
   ]
  },
  {
   "cell_type": "code",
   "execution_count": 33,
   "metadata": {},
   "outputs": [
    {
     "data": {
      "text/plain": [
       "'https://cdn.pydata.org/bokeh/release/bokeh-1.2.0.min.js'"
      ]
     },
     "execution_count": 33,
     "metadata": {},
     "output_type": "execute_result"
    }
   ],
   "source": [
    "cdn_js[0]"
   ]
  },
  {
   "cell_type": "code",
   "execution_count": 35,
   "metadata": {},
   "outputs": [
    {
     "data": {
      "text/plain": [
       "'https://cdn.pydata.org/bokeh/release/bokeh-1.2.0.min.css'"
      ]
     },
     "execution_count": 35,
     "metadata": {},
     "output_type": "execute_result"
    }
   ],
   "source": [
    "cdn_css[0]"
   ]
  },
  {
   "cell_type": "code",
   "execution_count": null,
   "metadata": {},
   "outputs": [],
   "source": []
  }
 ],
 "metadata": {
  "kernelspec": {
   "display_name": "Python 3",
   "language": "python",
   "name": "python3"
  },
  "language_info": {
   "codemirror_mode": {
    "name": "ipython",
    "version": 3
   },
   "file_extension": ".py",
   "mimetype": "text/x-python",
   "name": "python",
   "nbconvert_exporter": "python",
   "pygments_lexer": "ipython3",
   "version": "3.7.3"
  }
 },
 "nbformat": 4,
 "nbformat_minor": 2
}
